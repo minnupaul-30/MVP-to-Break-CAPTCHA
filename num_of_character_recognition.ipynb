{
 "cells": [
  {
   "cell_type": "code",
   "execution_count": 6,
   "metadata": {},
   "outputs": [],
   "source": [
    "import numpy as np\n",
    "import matplotlib.pyplot as plt\n",
    "import os\n",
    "import cv2\n",
    "import import_ipynb\n",
    "#import Captcha_seg\n",
    "import time"
   ]
  },
  {
   "cell_type": "code",
   "execution_count": 41,
   "metadata": {},
   "outputs": [
    {
     "name": "stdout",
     "output_type": "stream",
     "text": [
      "[(36, 112)]\n",
      "[(36, 112), (37, 127)]\n",
      "[(36, 112), (37, 127), (39, 118)]\n",
      "[(36, 112), (37, 127), (39, 118), (37, 113)]\n",
      "[(36, 112), (37, 127), (39, 118), (37, 113), (50, 114)]\n",
      "[(36, 112), (37, 127), (39, 118), (37, 113), (50, 114), (43, 118)]\n",
      "[(36, 112), (37, 127), (39, 118), (37, 113), (50, 114), (43, 118), (44, 112)]\n",
      "[(36, 112), (37, 127), (39, 118), (37, 113), (50, 114), (43, 118), (44, 112), (50, 111)]\n",
      "[(36, 112), (37, 127), (39, 118), (37, 113), (50, 114), (43, 118), (44, 112), (50, 111), (38, 109)]\n",
      "[(36, 112), (37, 127), (39, 118), (37, 113), (50, 114), (43, 118), (44, 112), (50, 111), (38, 109), (38, 117)]\n"
     ]
    }
   ],
   "source": [
    "SEGMENTS_DIR = 'Segmented'\n",
    "CAPTCHA_DIR = 'CAPTCHAS'\n",
    "predictions = []\n",
    "b_captcha = []\n",
    "dimension = []\n",
    "DATADIR = \"./CAPTCHAS_final/\"\n",
    "CATEGORIES= [\"5\"]\n",
    "label = []\n",
    "for category in CATEGORIES:\n",
    "    path = os.path.join(DATADIR, category)\n",
    "    for img in os.listdir(path):\n",
    "        img_array = cv2.imread(os.path.join(path,img))\n",
    "        dimension.append(img_array.shape[:2])\n",
    "        label.append(category)\n",
    "        print(dimension)\n",
    "    break"
   ]
  },
  {
   "cell_type": "code",
   "execution_count": 42,
   "metadata": {},
   "outputs": [],
   "source": [
    "X = np.array(dimension)\n",
    "Y = np.array(label)"
   ]
  },
  {
   "cell_type": "code",
   "execution_count": 43,
   "metadata": {},
   "outputs": [
    {
     "data": {
      "text/plain": [
       "array(['5', '5', '5', '5', '5', '5', '5', '5', '5', '5'], dtype='<U1')"
      ]
     },
     "execution_count": 43,
     "metadata": {},
     "output_type": "execute_result"
    }
   ],
   "source": [
    "Y"
   ]
  },
  {
   "cell_type": "code",
   "execution_count": null,
   "metadata": {},
   "outputs": [],
   "source": []
  }
 ],
 "metadata": {
  "kernelspec": {
   "display_name": "Python 3",
   "language": "python",
   "name": "python3"
  },
  "language_info": {
   "codemirror_mode": {
    "name": "ipython",
    "version": 3
   },
   "file_extension": ".py",
   "mimetype": "text/x-python",
   "name": "python",
   "nbconvert_exporter": "python",
   "pygments_lexer": "ipython3",
   "version": "3.6.6"
  }
 },
 "nbformat": 4,
 "nbformat_minor": 2
}
