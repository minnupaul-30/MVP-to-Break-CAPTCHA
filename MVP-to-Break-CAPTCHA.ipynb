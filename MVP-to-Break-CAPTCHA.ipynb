{
 "cells": [
  {
   "cell_type": "code",
   "execution_count": 1,
   "metadata": {},
   "outputs": [
    {
     "name": "stdout",
     "output_type": "stream",
     "text": [
      "importing Jupyter notebook from Captcha_seg.ipynb\n"
     ]
    }
   ],
   "source": [
    "import numpy as np\n",
    "import matplotlib.pyplot as plt\n",
    "import os\n",
    "import cv2\n",
    "import import_ipynb\n",
    "import Captcha_seg\n",
    "import time"
   ]
  },
  {
   "cell_type": "code",
   "execution_count": 2,
   "metadata": {},
   "outputs": [
    {
     "data": {
      "image/png": "[encoded data removed]",
      "text/plain": [
       "<Figure size 432x288 with 1 Axes>"
      ]
     },
     "metadata": {},
     "output_type": "display_data"
    }
   ],
   "source": [
    "SEGMENTS_DIR = 'Segmented'\n",
    "CAPTCHA_DIR = 'CAPTCHAS'\n",
    "predictions = []\n",
    "b_captcha = []\n",
    "\n",
    "DATADIR = \"./TrainImg/\"\n",
    "CATEGORIES= [\"0\",\"1\",\"2\",\"3\",\"4\",\"5\",\"6\",\"7\",\"8\",\"9\",\"a\",\"b\",\"c\",\"d\",\"e\",\"f\",\"g\",\"h\",\"i\",\"j\",\"k\",\"l\",\"m\",\"n\",\"o\",\"p\",\"q\",\"r\",\"s\",\"t\",\"u\",\"v\",\"w\",\"x\",\"y\",\"z\"]\n",
    "for category in CATEGORIES:\n",
    "    path = os.path.join(DATADIR, category)\n",
    "    for img in os.listdir(path):\n",
    "        img_array = cv2.imread(os.path.join(path,img), cv2.IMREAD_GRAYSCALE)\n",
    "        plt.imshow(img_array, cmap=\"gray\")\n",
    "        break\n",
    "    break"
   ]
  },
  {
   "cell_type": "code",
   "execution_count": 3,
   "metadata": {},
   "outputs": [
    {
     "name": "stdout",
     "output_type": "stream",
     "text": [
      "(128, 128)\n"
     ]
    }
   ],
   "source": [
    "print(img_array.shape)"
   ]
  },
  {
   "cell_type": "code",
   "execution_count": 4,
   "metadata": {
    "scrolled": true
   },
   "outputs": [
    {
     "data": {
      "image/png": "[encoded data removed]",
      "text/plain": [
       "<Figure size 432x288 with 1 Axes>"
      ]
     },
     "metadata": {},
     "output_type": "display_data"
    }
   ],
   "source": [
    "IMG_SIZE = 50\n",
    "\n",
    "new_array = cv2.resize(img_array, (IMG_SIZE, IMG_SIZE))\n",
    "plt.imshow(new_array, cmap= 'gray')\n",
    "plt.show()"
   ]
  },
  {
   "cell_type": "code",
   "execution_count": 5,
   "metadata": {},
   "outputs": [],
   "source": [
    "train_data = []\n",
    "\n",
    "def create_train_data():\n",
    "    for category in CATEGORIES:\n",
    "        path = os.path.join(DATADIR, category) \n",
    "        class_num = CATEGORIES.index(category)\n",
    "        for img in os.listdir(path):\n",
    "            try:\n",
    "                img_array = cv2.imread(os.path.join(path,img), cv2.IMREAD_GRAYSCALE)\n",
    "                new_array = cv2.resize(img_array, (IMG_SIZE, IMG_SIZE))\n",
    "                train_data.append([new_array,class_num])\n",
    "            except Exception as e:\n",
    "                pass\n",
    "            \n",
    "create_train_data()"
   ]
  },
  {
   "cell_type": "code",
   "execution_count": 6,
   "metadata": {},
   "outputs": [
    {
     "name": "stdout",
     "output_type": "stream",
     "text": [
      "36576\n"
     ]
    }
   ],
   "source": [
    "print(len(train_data))"
   ]
  },
  {
   "cell_type": "code",
   "execution_count": 7,
   "metadata": {},
   "outputs": [],
   "source": [
    "import random\n",
    "\n",
    "random.shuffle(train_data)"
   ]
  },
  {
   "cell_type": "code",
   "execution_count": 8,
   "metadata": {},
   "outputs": [
    {
     "name": "stdout",
     "output_type": "stream",
     "text": [
      "1\n",
      "32\n",
      "18\n",
      "23\n",
      "19\n",
      "17\n",
      "7\n",
      "26\n",
      "7\n",
      "13\n"
     ]
    }
   ],
   "source": [
    "for sample in train_data[:10]:\n",
    "    print(sample[1])"
   ]
  },
  {
   "cell_type": "code",
   "execution_count": 9,
   "metadata": {},
   "outputs": [],
   "source": [
    "X = []\n",
    "y = []"
   ]
  },
  {
   "cell_type": "code",
   "execution_count": 10,
   "metadata": {},
   "outputs": [],
   "source": [
    "for features, label in train_data:\n",
    "    X.append(features)\n",
    "    y.append(label)\n",
    "    \n",
    "X = np.array(X).reshape(-1, IMG_SIZE, IMG_SIZE, 1)"
   ]
  },
  {
   "cell_type": "code",
   "execution_count": 11,
   "metadata": {},
   "outputs": [],
   "source": [
    "import pickle\n",
    "\n",
    "pickle_out = open(\"X.pickle\", \"wb\")\n",
    "pickle.dump(X, pickle_out)\n",
    "pickle_out.close()\n",
    "pickle_out = open(\"y.pickle\", \"wb\")\n",
    "pickle.dump(y, pickle_out)\n",
    "pickle_out.close()"
   ]
  },
  {
   "cell_type": "code",
   "execution_count": 12,
   "metadata": {},
   "outputs": [
    {
     "data": {
      "text/plain": [
       "(50, 50, 1)"
      ]
     },
     "execution_count": 12,
     "metadata": {},
     "output_type": "execute_result"
    }
   ],
   "source": [
    "pickle_in= open(\"X.pickle\", \"rb\")\n",
    "X = pickle.load(pickle_in)\n",
    "X.shape[1:]"
   ]
  },
  {
   "cell_type": "code",
   "execution_count": 14,
   "metadata": {
    "scrolled": false
   },
   "outputs": [
    {
     "name": "stdout",
     "output_type": "stream",
     "text": [
      "Train on 29260 samples, validate on 7316 samples\n",
      "Epoch 1/10\n",
      "29260/29260 [==============================] - 152s 5ms/step - loss: 1.1327 - acc: 0.7052 - val_loss: 0.4770 - val_acc: 0.8762\n",
      "Epoch 2/10\n",
      "29260/29260 [==============================] - 151s 5ms/step - loss: 0.3418 - acc: 0.9077 - val_loss: 0.3011 - val_acc: 0.9188\n",
      "Epoch 3/10\n",
      "29260/29260 [==============================] - 155s 5ms/step - loss: 0.2374 - acc: 0.9332 - val_loss: 0.2663 - val_acc: 0.9245\n",
      "Epoch 4/10\n",
      "29260/29260 [==============================] - 154s 5ms/step - loss: 0.1777 - acc: 0.9478 - val_loss: 0.1854 - val_acc: 0.9442\n",
      "Epoch 5/10\n",
      "29260/29260 [==============================] - 152s 5ms/step - loss: 0.1365 - acc: 0.9590 - val_loss: 0.1621 - val_acc: 0.9508\n",
      "Epoch 6/10\n",
      "29260/29260 [==============================] - 152s 5ms/step - loss: 0.1077 - acc: 0.9666 - val_loss: 0.1663 - val_acc: 0.9517\n",
      "Epoch 7/10\n",
      "29260/29260 [==============================] - 150s 5ms/step - loss: 0.0882 - acc: 0.9741 - val_loss: 0.1291 - val_acc: 0.9616\n",
      "Epoch 8/10\n",
      "29260/29260 [==============================] - 151s 5ms/step - loss: 0.0811 - acc: 0.9754 - val_loss: 0.1531 - val_acc: 0.9548\n",
      "Epoch 9/10\n",
      "29260/29260 [==============================] - 150s 5ms/step - loss: 0.0642 - acc: 0.9798 - val_loss: 0.1296 - val_acc: 0.9625\n",
      "Epoch 10/10\n",
      "29260/29260 [==============================] - 150s 5ms/step - loss: 0.0564 - acc: 0.9820 - val_loss: 0.1448 - val_acc: 0.9579\n"
     ]
    },
    {
     "data": {
      "text/plain": [
       "<keras.callbacks.History at 0x7f7d1b053940>"
      ]
     },
     "execution_count": 14,
     "metadata": {},
     "output_type": "execute_result"
    }
   ],
   "source": [
    "import tensorflow as tf\n",
    "from keras.models import Sequential\n",
    "from keras.layers import Dense, Dropout,Activation, Flatten, Conv2D, MaxPooling2D\n",
    "\n",
    "X = pickle.load(open(\"X.pickle\",\"rb\"))\n",
    "y = pickle.load(open(\"y.pickle\",\"rb\"))\n",
    "\n",
    "X = X/255.0\n",
    "\n",
    "model = Sequential()\n",
    "\n",
    "model.add(Conv2D(64,(3,3),input_shape= X.shape[1:]))\n",
    "model.add(Activation(\"relu\"))\n",
    "model.add(MaxPooling2D(pool_size=(2,2)))\n",
    "\n",
    "model.add(Conv2D(64,(3,3)))\n",
    "model.add(Activation(\"relu\"))\n",
    "model.add(MaxPooling2D(pool_size=(2,2)))\n",
    "\n",
    "model.add(Conv2D(64,(3,3)))\n",
    "model.add(Activation(\"relu\"))\n",
    "model.add(MaxPooling2D(pool_size=(2,2)))\n",
    "\n",
    "model.add(Flatten())\n",
    "model.add(Dense(64))\n",
    "model.add(Activation(\"relu\"))\n",
    "\n",
    "\n",
    "model.add(Dense(36))\n",
    "model.add(Activation(\"softmax\"))\n",
    "\n",
    "from keras.utils import to_categorical\n",
    "y_binary = to_categorical(y)\n",
    "\n",
    "model.compile(loss=\"categorical_crossentropy\",\n",
    "             optimizer=\"adam\",\n",
    "             metrics=['accuracy'])\n",
    "\n",
    "model.fit(X,y_binary,batch_size=128, epochs=10, validation_split = 0.2)\n"
   ]
  },
  {
   "cell_type": "code",
   "execution_count": 15,
   "metadata": {
    "scrolled": true
   },
   "outputs": [],
   "source": [
    "#model.summary()"
   ]
  },
  {
   "cell_type": "code",
   "execution_count": 17,
   "metadata": {
    "scrolled": false
   },
   "outputs": [
    {
     "name": "stdout",
     "output_type": "stream",
     "text": [
      "\n",
      "\n",
      "Actual:  2mg87\n",
      "Predicted: ihde7 \n",
      "\n",
      "Percentage Similarity=  20.0\n",
      "Elapsed time=  0.06528210639953613 s\n",
      "<------------------------------->\n",
      "\n",
      "\n",
      "Actual:  2fxgd\n",
      "Predicted: zxxod \n",
      "\n",
      "Percentage Similarity=  40.0\n",
      "Elapsed time=  0.014953851699829102 s\n",
      "<------------------------------->\n",
      "\n",
      "\n",
      "Actual:  2gyb6\n",
      "Predicted: x67ke \n",
      "\n",
      "Percentage Similarity=  0.0\n",
      "Elapsed time=  0.012299299240112305 s\n",
      "<------------------------------->\n",
      "\n",
      "\n",
      "Actual:  2g7nm\n",
      "Predicted: ze7oh \n",
      "\n",
      "Percentage Similarity=  20.0\n",
      "Elapsed time=  0.0113067626953125 s\n",
      "<------------------------------->\n",
      "\n",
      "\n",
      "Actual:  2cgyx\n",
      "Predicted: 7ts54 \n",
      "\n",
      "Percentage Similarity=  0.0\n",
      "Elapsed time=  0.15341782569885254 s\n",
      "<------------------------------->\n",
      "\n",
      "\n",
      "Actual:  2cg58\n",
      "Predicted: itd53 \n",
      "\n",
      "Percentage Similarity=  20.0\n",
      "Elapsed time=  0.03418731689453125 s\n",
      "<------------------------------->\n",
      "\n",
      "\n",
      "Actual:  2bg48\n",
      "Predicted: xkka8 \n",
      "\n",
      "Percentage Similarity=  20.0\n",
      "Elapsed time=  0.018510818481445312 s\n",
      "<------------------------------->\n",
      "\n",
      "\n",
      "Actual:  2g783\n",
      "Predicted: 7e783 \n",
      "\n",
      "Percentage Similarity=  60.0\n",
      "Elapsed time=  0.016948699951171875 s\n",
      "<------------------------------->\n",
      "\n",
      "\n",
      "Actual:  2cegf\n",
      "Predicted: xke5g \n",
      "\n",
      "Percentage Similarity=  20.0\n",
      "Elapsed time=  0.05424165725708008 s\n",
      "<------------------------------->\n",
      "\n",
      "\n",
      "Actual:  2en7g\n",
      "Predicted: zk67i \n",
      "\n",
      "Percentage Similarity=  20.0\n",
      "Elapsed time=  0.05036354064941406 s\n",
      "<------------------------------->\n",
      "Total number of CAPTCHAS broken:  0\n",
      "Total number of CAPTCHAS attempted:  10\n",
      "Average Characters Predicted=  0.0 %\n",
      "Total time taken=  0.43151187896728516 s\n"
     ]
    }
   ],
   "source": [
    "def similarity(a,b):\n",
    "    i =0\n",
    "    for x,y in zip(a,b):\n",
    "        if x==y:\n",
    "            i+= 1\n",
    "    percentage = (i/5) * 100\n",
    "    return percentage\n",
    "\n",
    "def prepare(filepath):\n",
    "    IMG_SIZE = 50\n",
    "    img_array = cv2.imread(filepath, cv2.IMREAD_GRAYSCALE)\n",
    "    new_array = cv2.resize(img_array, (IMG_SIZE,IMG_SIZE))\n",
    "    #plt.imshow(new_array,'gray')\n",
    "    return new_array.reshape(-1, IMG_SIZE,IMG_SIZE,1)\n",
    "\n",
    "total_time = 0\n",
    "score = 0\n",
    "count = 0\n",
    "for captchas in os.listdir(CAPTCHA_DIR):\n",
    "    start_time = time.time()\n",
    "    predict_list= []\n",
    "    captcha_name = captchas.split('.')\n",
    "    print('\\n')\n",
    "    print('Actual: ',captcha_name[0])\n",
    "    \n",
    "    captcha_path =os.path.join(CAPTCHA_DIR,captchas)\n",
    "    Captcha_seg.segment(captcha_path)\n",
    "    \n",
    "    files = []\n",
    "    for segments in os.listdir(SEGMENTS_DIR):\n",
    "        files.append(segments)\n",
    "        files.sort()\n",
    "    \n",
    "    for segments in files:\n",
    "        filepath = os.path.join(SEGMENTS_DIR,segments)\n",
    "        prediction = model.predict([prepare(filepath)])\n",
    "        predict_list.append(CATEGORIES[np.argmax(prediction[0])])\n",
    "    \n",
    "    elapsed_time = time.time()-start_time\n",
    "    total_time += elapsed_time\n",
    "    final_prediction = ''.join(predict_list)\n",
    "    if captcha_name[0]== final_prediction:\n",
    "        score +=1\n",
    "    \n",
    "    print('Predicted:',final_prediction,'\\n')\n",
    "    print('Percentage Similarity= ',similarity(captcha_name[0],final_prediction))\n",
    "    print('Elapsed time= ',elapsed_time,'s')\n",
    "    print('<------------------------------->')    \n",
    "    predictions.append(similarity(captcha_name[0],final_prediction))\n",
    "    count += 1\n",
    "\n",
    "\n",
    "print('Total number of CAPTCHAS broken: ',score)    \n",
    "print('Total number of CAPTCHAS attempted: ',count)\n",
    "avg_prediction = score/count\n",
    "print('Average Characters Predicted= ',avg_prediction,'%')\n",
    "print('Total time taken= ',total_time,'s')\n",
    "#model = tf.keras.models.load_model('captcha_alpha.model')\n",
    "#prediction = model.predict([prepare('3.png')])\n",
    "#print(len(prediction[0]))\n",
    "#print(prediction[0])\n",
    "#print(CATEGORIES[np.argmax(prediction[0])])"
   ]
  },
  {
   "cell_type": "code",
   "execution_count": null,
   "metadata": {},
   "outputs": [],
   "source": []
  }
 ],
 "metadata": {
  "kernelspec": {
   "display_name": "Python 3",
   "language": "python",
   "name": "python3"
  },
  "language_info": {
   "codemirror_mode": {
    "name": "ipython",
    "version": 3
   },
   "file_extension": ".py",
   "mimetype": "text/x-python",
   "name": "python",
   "nbconvert_exporter": "python",
   "pygments_lexer": "ipython3",
   "version": "3.6.5"
  }
 },
 "nbformat": 4,
 "nbformat_minor": 2
}
